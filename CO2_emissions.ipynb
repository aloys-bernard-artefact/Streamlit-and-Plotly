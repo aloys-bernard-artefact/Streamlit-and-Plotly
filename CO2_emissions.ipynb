{
 "cells": [
  {
   "cell_type": "markdown",
   "id": "b3b82288",
   "metadata": {},
   "source": [
    "### Imports "
   ]
  },
  {
   "cell_type": "code",
   "execution_count": 2,
   "id": "4f32da21",
   "metadata": {},
   "outputs": [],
   "source": [
    "import pandas as pd\n",
    "import seaborn as sns\n",
    "import plotly.express as px "
   ]
  },
  {
   "cell_type": "markdown",
   "id": "3c73b173",
   "metadata": {},
   "source": [
    "### Load data"
   ]
  },
  {
   "cell_type": "code",
   "execution_count": 3,
   "id": "1e891874",
   "metadata": {},
   "outputs": [
    {
     "name": "stdout",
     "output_type": "stream",
     "text": [
      "mkdir: data: File exists\n",
      "  % Total    % Received % Xferd  Average Speed   Time    Time     Time  Current\n",
      "                                 Dload  Upload   Total   Spent    Left  Speed\n",
      "100  411k  100  411k    0     0  4306k      0 --:--:-- --:--:-- --:--:-- 4335k\n",
      "CO2_per_capita.csv\n"
     ]
    }
   ],
   "source": [
    "! mkdir data\n",
    "! curl https://storage.googleapis.com/schoolofdata-datasets/Data-Analysis.Data-Visualization/CO2_per_capita.csv > data/CO2_per_capita.csv\n",
    "! ls  data"
   ]
  },
  {
   "cell_type": "code",
   "execution_count": 4,
   "id": "920c8256",
   "metadata": {},
   "outputs": [
    {
     "data": {
      "text/html": [
       "<div>\n",
       "<style scoped>\n",
       "    .dataframe tbody tr th:only-of-type {\n",
       "        vertical-align: middle;\n",
       "    }\n",
       "\n",
       "    .dataframe tbody tr th {\n",
       "        vertical-align: top;\n",
       "    }\n",
       "\n",
       "    .dataframe thead th {\n",
       "        text-align: right;\n",
       "    }\n",
       "</style>\n",
       "<table border=\"1\" class=\"dataframe\">\n",
       "  <thead>\n",
       "    <tr style=\"text-align: right;\">\n",
       "      <th></th>\n",
       "      <th>Country Name</th>\n",
       "      <th>Country Code</th>\n",
       "      <th>Year</th>\n",
       "      <th>CO2 Per Capita (metric tons)</th>\n",
       "    </tr>\n",
       "  </thead>\n",
       "  <tbody>\n",
       "    <tr>\n",
       "      <th>26</th>\n",
       "      <td>Aruba</td>\n",
       "      <td>ABW</td>\n",
       "      <td>1986</td>\n",
       "      <td>2.868319</td>\n",
       "    </tr>\n",
       "    <tr>\n",
       "      <th>27</th>\n",
       "      <td>Aruba</td>\n",
       "      <td>ABW</td>\n",
       "      <td>1987</td>\n",
       "      <td>7.234964</td>\n",
       "    </tr>\n",
       "    <tr>\n",
       "      <th>28</th>\n",
       "      <td>Aruba</td>\n",
       "      <td>ABW</td>\n",
       "      <td>1988</td>\n",
       "      <td>10.026508</td>\n",
       "    </tr>\n",
       "    <tr>\n",
       "      <th>29</th>\n",
       "      <td>Aruba</td>\n",
       "      <td>ABW</td>\n",
       "      <td>1989</td>\n",
       "      <td>10.634733</td>\n",
       "    </tr>\n",
       "    <tr>\n",
       "      <th>30</th>\n",
       "      <td>Aruba</td>\n",
       "      <td>ABW</td>\n",
       "      <td>1990</td>\n",
       "      <td>29.620165</td>\n",
       "    </tr>\n",
       "  </tbody>\n",
       "</table>\n",
       "</div>"
      ],
      "text/plain": [
       "   Country Name Country Code  Year  CO2 Per Capita (metric tons)\n",
       "26        Aruba          ABW  1986                      2.868319\n",
       "27        Aruba          ABW  1987                      7.234964\n",
       "28        Aruba          ABW  1988                     10.026508\n",
       "29        Aruba          ABW  1989                     10.634733\n",
       "30        Aruba          ABW  1990                     29.620165"
      ]
     },
     "execution_count": 4,
     "metadata": {},
     "output_type": "execute_result"
    }
   ],
   "source": [
    "df = pd.read_csv(\"data/CO2_per_capita.csv\",sep=\";\").dropna(subset=\"CO2 Per Capita (metric tons)\")\n",
    "df.head()\n"
   ]
  },
  {
   "cell_type": "code",
   "execution_count": 5,
   "id": "883687d5",
   "metadata": {},
   "outputs": [
    {
     "name": "stdout",
     "output_type": "stream",
     "text": [
      "<class 'pandas.core.frame.DataFrame'>\n",
      "Index: 10599 entries, 26 to 12895\n",
      "Data columns (total 4 columns):\n",
      " #   Column                        Non-Null Count  Dtype  \n",
      "---  ------                        --------------  -----  \n",
      " 0   Country Name                  10599 non-null  object \n",
      " 1   Country Code                  10599 non-null  object \n",
      " 2   Year                          10599 non-null  int64  \n",
      " 3   CO2 Per Capita (metric tons)  10599 non-null  float64\n",
      "dtypes: float64(1), int64(1), object(2)\n",
      "memory usage: 414.0+ KB\n"
     ]
    },
    {
     "data": {
      "text/html": [
       "<div>\n",
       "<style scoped>\n",
       "    .dataframe tbody tr th:only-of-type {\n",
       "        vertical-align: middle;\n",
       "    }\n",
       "\n",
       "    .dataframe tbody tr th {\n",
       "        vertical-align: top;\n",
       "    }\n",
       "\n",
       "    .dataframe thead th {\n",
       "        text-align: right;\n",
       "    }\n",
       "</style>\n",
       "<table border=\"1\" class=\"dataframe\">\n",
       "  <thead>\n",
       "    <tr style=\"text-align: right;\">\n",
       "      <th></th>\n",
       "      <th>Year</th>\n",
       "      <th>CO2 Per Capita (metric tons)</th>\n",
       "    </tr>\n",
       "  </thead>\n",
       "  <tbody>\n",
       "    <tr>\n",
       "      <th>count</th>\n",
       "      <td>10599.000000</td>\n",
       "      <td>10599.000000</td>\n",
       "    </tr>\n",
       "    <tr>\n",
       "      <th>mean</th>\n",
       "      <td>1986.793848</td>\n",
       "      <td>4.314893</td>\n",
       "    </tr>\n",
       "    <tr>\n",
       "      <th>std</th>\n",
       "      <td>15.062262</td>\n",
       "      <td>7.186523</td>\n",
       "    </tr>\n",
       "    <tr>\n",
       "      <th>min</th>\n",
       "      <td>1960.000000</td>\n",
       "      <td>0.000580</td>\n",
       "    </tr>\n",
       "    <tr>\n",
       "      <th>25%</th>\n",
       "      <td>1974.000000</td>\n",
       "      <td>0.413003</td>\n",
       "    </tr>\n",
       "    <tr>\n",
       "      <th>50%</th>\n",
       "      <td>1988.000000</td>\n",
       "      <td>1.590776</td>\n",
       "    </tr>\n",
       "    <tr>\n",
       "      <th>75%</th>\n",
       "      <td>2000.000000</td>\n",
       "      <td>6.007173</td>\n",
       "    </tr>\n",
       "    <tr>\n",
       "      <th>max</th>\n",
       "      <td>2011.000000</td>\n",
       "      <td>99.840439</td>\n",
       "    </tr>\n",
       "  </tbody>\n",
       "</table>\n",
       "</div>"
      ],
      "text/plain": [
       "               Year  CO2 Per Capita (metric tons)\n",
       "count  10599.000000                  10599.000000\n",
       "mean    1986.793848                      4.314893\n",
       "std       15.062262                      7.186523\n",
       "min     1960.000000                      0.000580\n",
       "25%     1974.000000                      0.413003\n",
       "50%     1988.000000                      1.590776\n",
       "75%     2000.000000                      6.007173\n",
       "max     2011.000000                     99.840439"
      ]
     },
     "execution_count": 5,
     "metadata": {},
     "output_type": "execute_result"
    }
   ],
   "source": [
    "df.info()\n",
    "df.describe()"
   ]
  },
  {
   "cell_type": "code",
   "execution_count": 6,
   "id": "7fe53952",
   "metadata": {},
   "outputs": [
    {
     "name": "stdout",
     "output_type": "stream",
     "text": [
      "(0, 2)\n"
     ]
    },
    {
     "data": {
      "text/plain": [
       "<Axes: >"
      ]
     },
     "execution_count": 6,
     "metadata": {},
     "output_type": "execute_result"
    },
    {
     "data": {
      "image/png": "[encoded data removed]",
      "text/plain": [
       "<Figure size 640x480 with 1 Axes>"
      ]
     },
     "metadata": {},
     "output_type": "display_data"
    }
   ],
   "source": [
    "# Bonus :  COmbien de nan par pays ?\n",
    "nan_df = df.loc[:,[\"Country Name\"]].copy()\n",
    "nan_df[\"CO2\"] = df.loc[:,[\"CO2 Per Capita (metric tons)\"]].isna()\n",
    "nan_df = nan_df.groupby(\"Country Name\").sum().sort_values(by=\"CO2\",ascending=False)\n",
    "nan_df = nan_df[nan_df[\"CO2\"] > 0 ]\n",
    "nan_df.reset_index(inplace=True)\n",
    "print(nan_df.shape)\n",
    "sns.barplot(data=nan_df, x= \"Country Name\", y=\"CO2\")"
   ]
  },
  {
   "cell_type": "code",
   "execution_count": 7,
   "id": "9f6b7668",
   "metadata": {},
   "outputs": [
    {
     "data": {
      "text/plain": [
       "<Axes: xlabel='CO2 Per Capita (metric tons)', ylabel='Count'>"
      ]
     },
     "execution_count": 7,
     "metadata": {},
     "output_type": "execute_result"
    },
    {
     "data": {
      "image/png": "[encoded data removed]",
      "text/plain": [
       "<Figure size 640x480 with 1 Axes>"
      ]
     },
     "metadata": {},
     "output_type": "display_data"
    }
   ],
   "source": [
    "sns.histplot(df,x=\"CO2 Per Capita (metric tons)\")"
   ]
  },
  {
   "cell_type": "code",
   "execution_count": 8,
   "id": "40d5cef3",
   "metadata": {},
   "outputs": [
    {
     "data": {
      "text/html": [
       "<div>\n",
       "<style scoped>\n",
       "    .dataframe tbody tr th:only-of-type {\n",
       "        vertical-align: middle;\n",
       "    }\n",
       "\n",
       "    .dataframe tbody tr th {\n",
       "        vertical-align: top;\n",
       "    }\n",
       "\n",
       "    .dataframe thead th {\n",
       "        text-align: right;\n",
       "    }\n",
       "</style>\n",
       "<table border=\"1\" class=\"dataframe\">\n",
       "  <thead>\n",
       "    <tr style=\"text-align: right;\">\n",
       "      <th></th>\n",
       "      <th>Country Name</th>\n",
       "      <th>Country Code</th>\n",
       "      <th>Year</th>\n",
       "      <th>CO2 Per Capita (metric tons)</th>\n",
       "    </tr>\n",
       "  </thead>\n",
       "  <tbody>\n",
       "    <tr>\n",
       "      <th>12891</th>\n",
       "      <td>Zimbabwe</td>\n",
       "      <td>ZWE</td>\n",
       "      <td>2007</td>\n",
       "      <td>0.731867</td>\n",
       "    </tr>\n",
       "    <tr>\n",
       "      <th>12892</th>\n",
       "      <td>Zimbabwe</td>\n",
       "      <td>ZWE</td>\n",
       "      <td>2008</td>\n",
       "      <td>0.569255</td>\n",
       "    </tr>\n",
       "    <tr>\n",
       "      <th>12893</th>\n",
       "      <td>Zimbabwe</td>\n",
       "      <td>ZWE</td>\n",
       "      <td>2009</td>\n",
       "      <td>0.600521</td>\n",
       "    </tr>\n",
       "    <tr>\n",
       "      <th>12894</th>\n",
       "      <td>Zimbabwe</td>\n",
       "      <td>ZWE</td>\n",
       "      <td>2010</td>\n",
       "      <td>0.646073</td>\n",
       "    </tr>\n",
       "    <tr>\n",
       "      <th>12895</th>\n",
       "      <td>Zimbabwe</td>\n",
       "      <td>ZWE</td>\n",
       "      <td>2011</td>\n",
       "      <td>0.691698</td>\n",
       "    </tr>\n",
       "  </tbody>\n",
       "</table>\n",
       "</div>"
      ],
      "text/plain": [
       "      Country Name Country Code  Year  CO2 Per Capita (metric tons)\n",
       "12891     Zimbabwe          ZWE  2007                      0.731867\n",
       "12892     Zimbabwe          ZWE  2008                      0.569255\n",
       "12893     Zimbabwe          ZWE  2009                      0.600521\n",
       "12894     Zimbabwe          ZWE  2010                      0.646073\n",
       "12895     Zimbabwe          ZWE  2011                      0.691698"
      ]
     },
     "execution_count": 8,
     "metadata": {},
     "output_type": "execute_result"
    }
   ],
   "source": [
    "df.tail()"
   ]
  },
  {
   "cell_type": "code",
   "execution_count": 9,
   "id": "a189a1a3",
   "metadata": {},
   "outputs": [
    {
     "data": {
      "text/html": [
       "<div>\n",
       "<style scoped>\n",
       "    .dataframe tbody tr th:only-of-type {\n",
       "        vertical-align: middle;\n",
       "    }\n",
       "\n",
       "    .dataframe tbody tr th {\n",
       "        vertical-align: top;\n",
       "    }\n",
       "\n",
       "    .dataframe thead th {\n",
       "        text-align: right;\n",
       "    }\n",
       "</style>\n",
       "<table border=\"1\" class=\"dataframe\">\n",
       "  <thead>\n",
       "    <tr style=\"text-align: right;\">\n",
       "      <th></th>\n",
       "      <th>Country Name</th>\n",
       "      <th>Country Code</th>\n",
       "      <th>Year</th>\n",
       "      <th>CO2 Per Capita (metric tons)</th>\n",
       "    </tr>\n",
       "  </thead>\n",
       "  <tbody>\n",
       "    <tr>\n",
       "      <th>49</th>\n",
       "      <td>Aruba</td>\n",
       "      <td>ABW</td>\n",
       "      <td>2009</td>\n",
       "      <td>24.876706</td>\n",
       "    </tr>\n",
       "    <tr>\n",
       "      <th>50</th>\n",
       "      <td>Aruba</td>\n",
       "      <td>ABW</td>\n",
       "      <td>2010</td>\n",
       "      <td>24.182702</td>\n",
       "    </tr>\n",
       "    <tr>\n",
       "      <th>101</th>\n",
       "      <td>Afghanistan</td>\n",
       "      <td>AFG</td>\n",
       "      <td>2009</td>\n",
       "      <td>0.249074</td>\n",
       "    </tr>\n",
       "    <tr>\n",
       "      <th>102</th>\n",
       "      <td>Afghanistan</td>\n",
       "      <td>AFG</td>\n",
       "      <td>2010</td>\n",
       "      <td>0.302936</td>\n",
       "    </tr>\n",
       "    <tr>\n",
       "      <th>153</th>\n",
       "      <td>Angola</td>\n",
       "      <td>AGO</td>\n",
       "      <td>2009</td>\n",
       "      <td>1.430873</td>\n",
       "    </tr>\n",
       "    <tr>\n",
       "      <th>...</th>\n",
       "      <td>...</td>\n",
       "      <td>...</td>\n",
       "      <td>...</td>\n",
       "      <td>...</td>\n",
       "    </tr>\n",
       "    <tr>\n",
       "      <th>12790</th>\n",
       "      <td>South Africa</td>\n",
       "      <td>ZAF</td>\n",
       "      <td>2010</td>\n",
       "      <td>8.957154</td>\n",
       "    </tr>\n",
       "    <tr>\n",
       "      <th>12841</th>\n",
       "      <td>Zambia</td>\n",
       "      <td>ZMB</td>\n",
       "      <td>2009</td>\n",
       "      <td>0.184058</td>\n",
       "    </tr>\n",
       "    <tr>\n",
       "      <th>12842</th>\n",
       "      <td>Zambia</td>\n",
       "      <td>ZMB</td>\n",
       "      <td>2010</td>\n",
       "      <td>0.192079</td>\n",
       "    </tr>\n",
       "    <tr>\n",
       "      <th>12893</th>\n",
       "      <td>Zimbabwe</td>\n",
       "      <td>ZWE</td>\n",
       "      <td>2009</td>\n",
       "      <td>0.600521</td>\n",
       "    </tr>\n",
       "    <tr>\n",
       "      <th>12894</th>\n",
       "      <td>Zimbabwe</td>\n",
       "      <td>ZWE</td>\n",
       "      <td>2010</td>\n",
       "      <td>0.646073</td>\n",
       "    </tr>\n",
       "  </tbody>\n",
       "</table>\n",
       "<p>464 rows × 4 columns</p>\n",
       "</div>"
      ],
      "text/plain": [
       "       Country Name Country Code  Year  CO2 Per Capita (metric tons)\n",
       "49            Aruba          ABW  2009                     24.876706\n",
       "50            Aruba          ABW  2010                     24.182702\n",
       "101     Afghanistan          AFG  2009                      0.249074\n",
       "102     Afghanistan          AFG  2010                      0.302936\n",
       "153          Angola          AGO  2009                      1.430873\n",
       "...             ...          ...   ...                           ...\n",
       "12790  South Africa          ZAF  2010                      8.957154\n",
       "12841        Zambia          ZMB  2009                      0.184058\n",
       "12842        Zambia          ZMB  2010                      0.192079\n",
       "12893      Zimbabwe          ZWE  2009                      0.600521\n",
       "12894      Zimbabwe          ZWE  2010                      0.646073\n",
       "\n",
       "[464 rows x 4 columns]"
      ]
     },
     "execution_count": 9,
     "metadata": {},
     "output_type": "execute_result"
    }
   ],
   "source": [
    "boolean_df = (df[\"Year\"] > 2008) & (df[\"Year\"] < 2011)\n",
    "filtered_df = df[boolean_df]\n",
    "filtered_df"
   ]
  },
  {
   "cell_type": "code",
   "execution_count": 10,
   "id": "19db9d74",
   "metadata": {},
   "outputs": [
    {
     "data": {
      "image/png": "[encoded data removed]",
      "text/plain": [
       "<Figure size 640x480 with 1 Axes>"
      ]
     },
     "metadata": {},
     "output_type": "display_data"
    }
   ],
   "source": [
    "def top_n_emitters( df : pd.DataFrame\n",
    "                    ,start_year : int = 2008\n",
    "                    ,end_year   : int = 2011\n",
    "                    ,nb_display : int = 10)  :\n",
    "    # Je filtre par années\n",
    "    boolean_df = (df[\"Year\"] >= start_year) & (df[\"Year\"] <= end_year )\n",
    "    filtered_df = df[boolean_df]\n",
    "    # Je groupe \n",
    "    co2_df = filtered_df[[\"Country Name\",\"CO2 Per Capita (metric tons)\"]]\\\n",
    "                    .groupby(by=\"Country Name\")\\\n",
    "                    .mean()\n",
    "    # Je filtre le top n\n",
    "    co2_df\\\n",
    "        .sort_values(by='CO2 Per Capita (metric tons)'\n",
    "                       ,inplace=True\n",
    "                       ,ascending=False)\n",
    "    top_n_co2 = co2_df.head(nb_display)\n",
    "    # 3 je créé un graph\n",
    "    sns.barplot(top_n_co2, y=top_n_co2.index, x = \"CO2 Per Capita (metric tons)\")\n",
    "\n",
    "    \n",
    "top_n_emitters(df,1950,2020,3)"
   ]
  },
  {
   "cell_type": "code",
   "execution_count": 11,
   "id": "d181d587",
   "metadata": {},
   "outputs": [
    {
     "data": {
      "text/plain": [
       "<function __main__.top_n_emitters(df: pandas.core.frame.DataFrame, start_year: int = 2008, end_year: int = 2011, nb_display: int = 10)>"
      ]
     },
     "execution_count": 11,
     "metadata": {},
     "output_type": "execute_result"
    }
   ],
   "source": [
    "top_n_emitters"
   ]
  },
  {
   "cell_type": "markdown",
   "id": "6497f707",
   "metadata": {},
   "source": [
    "### Function to create and display the map\n",
    "\n",
    "In this section, we define a function that creates and displays a choropleth map for a given year."
   ]
  },
  {
   "cell_type": "code",
   "execution_count": 15,
   "id": "9c9331a1",
   "metadata": {},
   "outputs": [
    {
     "data": {
      "text/html": [
       "<div>\n",
       "<style scoped>\n",
       "    .dataframe tbody tr th:only-of-type {\n",
       "        vertical-align: middle;\n",
       "    }\n",
       "\n",
       "    .dataframe tbody tr th {\n",
       "        vertical-align: top;\n",
       "    }\n",
       "\n",
       "    .dataframe thead th {\n",
       "        text-align: right;\n",
       "    }\n",
       "</style>\n",
       "<table border=\"1\" class=\"dataframe\">\n",
       "  <thead>\n",
       "    <tr style=\"text-align: right;\">\n",
       "      <th></th>\n",
       "      <th>Country Name</th>\n",
       "      <th>Country Code</th>\n",
       "      <th>Year</th>\n",
       "      <th>CO2 Per Capita (metric tons)</th>\n",
       "    </tr>\n",
       "  </thead>\n",
       "  <tbody>\n",
       "    <tr>\n",
       "      <th>45</th>\n",
       "      <td>Aruba</td>\n",
       "      <td>ABW</td>\n",
       "      <td>2005</td>\n",
       "      <td>24.964531</td>\n",
       "    </tr>\n",
       "    <tr>\n",
       "      <th>97</th>\n",
       "      <td>Afghanistan</td>\n",
       "      <td>AFG</td>\n",
       "      <td>2005</td>\n",
       "      <td>0.054855</td>\n",
       "    </tr>\n",
       "    <tr>\n",
       "      <th>149</th>\n",
       "      <td>Angola</td>\n",
       "      <td>AGO</td>\n",
       "      <td>2005</td>\n",
       "      <td>1.069417</td>\n",
       "    </tr>\n",
       "    <tr>\n",
       "      <th>201</th>\n",
       "      <td>Albania</td>\n",
       "      <td>ALB</td>\n",
       "      <td>2005</td>\n",
       "      <td>1.412498</td>\n",
       "    </tr>\n",
       "    <tr>\n",
       "      <th>253</th>\n",
       "      <td>Andorra</td>\n",
       "      <td>AND</td>\n",
       "      <td>2005</td>\n",
       "      <td>7.088128</td>\n",
       "    </tr>\n",
       "    <tr>\n",
       "      <th>...</th>\n",
       "      <td>...</td>\n",
       "      <td>...</td>\n",
       "      <td>...</td>\n",
       "      <td>...</td>\n",
       "    </tr>\n",
       "    <tr>\n",
       "      <th>12681</th>\n",
       "      <td>Samoa</td>\n",
       "      <td>WSM</td>\n",
       "      <td>2005</td>\n",
       "      <td>0.937497</td>\n",
       "    </tr>\n",
       "    <tr>\n",
       "      <th>12733</th>\n",
       "      <td>Yemen, Rep.</td>\n",
       "      <td>YEM</td>\n",
       "      <td>2005</td>\n",
       "      <td>0.977538</td>\n",
       "    </tr>\n",
       "    <tr>\n",
       "      <th>12785</th>\n",
       "      <td>South Africa</td>\n",
       "      <td>ZAF</td>\n",
       "      <td>2005</td>\n",
       "      <td>8.275124</td>\n",
       "    </tr>\n",
       "    <tr>\n",
       "      <th>12837</th>\n",
       "      <td>Zambia</td>\n",
       "      <td>ZMB</td>\n",
       "      <td>2005</td>\n",
       "      <td>0.189080</td>\n",
       "    </tr>\n",
       "    <tr>\n",
       "      <th>12889</th>\n",
       "      <td>Zimbabwe</td>\n",
       "      <td>ZWE</td>\n",
       "      <td>2005</td>\n",
       "      <td>0.825218</td>\n",
       "    </tr>\n",
       "  </tbody>\n",
       "</table>\n",
       "<p>230 rows × 4 columns</p>\n",
       "</div>"
      ],
      "text/plain": [
       "       Country Name Country Code  Year  CO2 Per Capita (metric tons)\n",
       "45            Aruba          ABW  2005                     24.964531\n",
       "97      Afghanistan          AFG  2005                      0.054855\n",
       "149          Angola          AGO  2005                      1.069417\n",
       "201         Albania          ALB  2005                      1.412498\n",
       "253         Andorra          AND  2005                      7.088128\n",
       "...             ...          ...   ...                           ...\n",
       "12681         Samoa          WSM  2005                      0.937497\n",
       "12733   Yemen, Rep.          YEM  2005                      0.977538\n",
       "12785  South Africa          ZAF  2005                      8.275124\n",
       "12837        Zambia          ZMB  2005                      0.189080\n",
       "12889      Zimbabwe          ZWE  2005                      0.825218\n",
       "\n",
       "[230 rows x 4 columns]"
      ]
     },
     "metadata": {},
     "output_type": "display_data"
    },
    {
     "data": {
      "application/vnd.plotly.v1+json": {
       "config": {
        "plotlyServerURL": "https://plot.ly"
       },
       "data": [
        {
         "coloraxis": "coloraxis",
         "geo": "geo",
         "hovertemplate": "<b>%{hovertext}</b><br><br>Country Code=%{location}<br>CO2 Per Capita (metric tons)=%{z}<extra></extra>",
         "hovertext": [
          "Aruba",
          "Afghanistan",
          "Angola",
          "Albania",
          "Andorra",
          "Arab World",
          "United Arab Emirates",
          "Argentina",
          "Armenia",
          "Antigua and Barbuda",
          "Australia",
          "Austria",
          "Azerbaijan",
          "Burundi",
          "Belgium",
          "Benin",
          "Burkina Faso",
          "Bangladesh",
          "Bulgaria",
          "Bahrain",
          "Bahamas, The",
          "Bosnia and Herzegovina",
          "Belarus",
          "Belize",
          "Bermuda",
          "Bolivia",
          "Brazil",
          "Barbados",
          "Brunei Darussalam",
          "Bhutan",
          "Botswana",
          "Central African Republic",
          "Canada",
          "Central Europe and the Baltics",
          "Switzerland",
          "Chile",
          "China",
          "Cote d'Ivoire",
          "Cameroon",
          "Congo, Dem. Rep.",
          "Congo, Rep.",
          "Colombia",
          "Comoros",
          "Cabo Verde",
          "Costa Rica",
          "Caribbean small states",
          "Cuba",
          "Cayman Islands",
          "Cyprus",
          "Czech Republic",
          "Germany",
          "Djibouti",
          "Dominica",
          "Denmark",
          "Dominican Republic",
          "Algeria",
          "East Asia & Pacific (developing only)",
          "East Asia & Pacific (all income levels)",
          "Europe & Central Asia (developing only)",
          "Europe & Central Asia (all income levels)",
          "Ecuador",
          "Egypt, Arab Rep.",
          "Euro area",
          "Eritrea",
          "Spain",
          "Estonia",
          "Ethiopia",
          "European Union",
          "Fragile and conflict affected situations",
          "Finland",
          "Fiji",
          "France",
          "Faroe Islands",
          "Micronesia, Fed. Sts.",
          "Gabon",
          "United Kingdom",
          "Georgia",
          "Ghana",
          "Guinea",
          "Gambia, The",
          "Guinea-Bissau",
          "Equatorial Guinea",
          "Greece",
          "Grenada",
          "Greenland",
          "Guatemala",
          "Guyana",
          "High income",
          "Hong Kong SAR, China",
          "Honduras",
          "Heavily indebted poor countries (HIPC)",
          "Croatia",
          "Haiti",
          "Hungary",
          "Indonesia",
          "India",
          "Ireland",
          "Iran, Islamic Rep.",
          "Iraq",
          "Iceland",
          "Israel",
          "Italy",
          "Jamaica",
          "Jordan",
          "Japan",
          "Kazakhstan",
          "Kenya",
          "Kyrgyz Republic",
          "Cambodia",
          "Kiribati",
          "St. Kitts and Nevis",
          "Korea, Rep.",
          "Kuwait",
          "Latin America & Caribbean (developing only)",
          "Lao PDR",
          "Lebanon",
          "Liberia",
          "Libya",
          "St. Lucia",
          "Latin America & Caribbean (all income levels)",
          "Least developed countries: UN classification",
          "Low income",
          "Sri Lanka",
          "Lower middle income",
          "Low & middle income",
          "Lesotho",
          "Lithuania",
          "Luxembourg",
          "Latvia",
          "Macao SAR, China",
          "Morocco",
          "Moldova",
          "Madagascar",
          "Maldives",
          "Middle East & North Africa (all income levels)",
          "Mexico",
          "Marshall Islands",
          "Middle income",
          "Macedonia, FYR",
          "Mali",
          "Malta",
          "Myanmar",
          "Middle East & North Africa (developing only)",
          "Montenegro",
          "Mongolia",
          "Mozambique",
          "Mauritania",
          "Mauritius",
          "Malawi",
          "Malaysia",
          "North America",
          "Namibia",
          "New Caledonia",
          "Niger",
          "Nigeria",
          "Nicaragua",
          "Netherlands",
          "High income: nonOECD",
          "Norway",
          "Nepal",
          "New Zealand",
          "High income: OECD",
          "OECD members",
          "Oman",
          "Other small states",
          "Pakistan",
          "Panama",
          "Peru",
          "Philippines",
          "Palau",
          "Papua New Guinea",
          "Poland",
          "Korea, Dem. People_s Rep.",
          "Portugal",
          "Paraguay",
          "West Bank and Gaza",
          "Pacific island small states",
          "French Polynesia",
          "Qatar",
          "Romania",
          "Russian Federation",
          "Rwanda",
          "South Asia",
          "Saudi Arabia",
          "Sudan",
          "Senegal",
          "Singapore",
          "Solomon Islands",
          "Sierra Leone",
          "El Salvador",
          "Somalia",
          "Sub-Saharan Africa (developing only)",
          "Sub-Saharan Africa (all income levels)",
          "Small states",
          "Sao Tome and Principe",
          "Suriname",
          "Slovak Republic",
          "Slovenia",
          "Sweden",
          "Swaziland",
          "Seychelles",
          "Syrian Arab Republic",
          "Turks and Caicos Islands",
          "Chad",
          "Togo",
          "Thailand",
          "Tajikistan",
          "Turkmenistan",
          "Timor-Leste",
          "Tonga",
          "Trinidad and Tobago",
          "Tunisia",
          "Turkey",
          "Tanzania",
          "Uganda",
          "Ukraine",
          "Upper middle income",
          "Uruguay",
          "United States",
          "Uzbekistan",
          "St. Vincent and the Grenadines",
          "Venezuela, RB",
          "Vietnam",
          "Vanuatu",
          "World",
          "Samoa",
          "Yemen, Rep.",
          "South Africa",
          "Zambia",
          "Zimbabwe"
         ],
         "locations": [
          "ABW",
          "AFG",
          "AGO",
          "ALB",
          "AND",
          "ARB",
          "ARE",
          "ARG",
          "ARM",
          "ATG",
          "AUS",
          "AUT",
          "AZE",
          "BDI",
          "BEL",
          "BEN",
          "BFA",
          "BGD",
          "BGR",
          "BHR",
          "BHS",
          "BIH",
          "BLR",
          "BLZ",
          "BMU",
          "BOL",
          "BRA",
          "BRB",
          "BRN",
          "BTN",
          "BWA",
          "CAF",
          "CAN",
          "CEB",
          "CHE",
          "CHL",
          "CHN",
          "CIV",
          "CMR",
          "COD",
          "COG",
          "COL",
          "COM",
          "CPV",
          "CRI",
          "CSS",
          "CUB",
          "CYM",
          "CYP",
          "CZE",
          "DEU",
          "DJI",
          "DMA",
          "DNK",
          "DOM",
          "DZA",
          "EAP",
          "EAS",
          "ECA",
          "ECS",
          "ECU",
          "EGY",
          "EMU",
          "ERI",
          "ESP",
          "EST",
          "ETH",
          "EUU",
          "FCS",
          "FIN",
          "FJI",
          "FRA",
          "FRO",
          "FSM",
          "GAB",
          "GBR",
          "GEO",
          "GHA",
          "GIN",
          "GMB",
          "GNB",
          "GNQ",
          "GRC",
          "GRD",
          "GRL",
          "GTM",
          "GUY",
          "HIC",
          "HKG",
          "HND",
          "HPC",
          "HRV",
          "HTI",
          "HUN",
          "IDN",
          "IND",
          "IRL",
          "IRN",
          "IRQ",
          "ISL",
          "ISR",
          "ITA",
          "JAM",
          "JOR",
          "JPN",
          "KAZ",
          "KEN",
          "KGZ",
          "KHM",
          "KIR",
          "KNA",
          "KOR",
          "KWT",
          "LAC",
          "LAO",
          "LBN",
          "LBR",
          "LBY",
          "LCA",
          "LCN",
          "LDC",
          "LIC",
          "LKA",
          "LMC",
          "LMY",
          "LSO",
          "LTU",
          "LUX",
          "LVA",
          "MAC",
          "MAR",
          "MDA",
          "MDG",
          "MDV",
          "MEA",
          "MEX",
          "MHL",
          "MIC",
          "MKD",
          "MLI",
          "MLT",
          "MMR",
          "MNA",
          "MNE",
          "MNG",
          "MOZ",
          "MRT",
          "MUS",
          "MWI",
          "MYS",
          "NAC",
          "NAM",
          "NCL",
          "NER",
          "NGA",
          "NIC",
          "NLD",
          "NOC",
          "NOR",
          "NPL",
          "NZL",
          "OEC",
          "OED",
          "OMN",
          "OSS",
          "PAK",
          "PAN",
          "PER",
          "PHL",
          "PLW",
          "PNG",
          "POL",
          "PRK",
          "PRT",
          "PRY",
          "PSE",
          "PSS",
          "PYF",
          "QAT",
          "ROU",
          "RUS",
          "RWA",
          "SAS",
          "SAU",
          "SDN",
          "SEN",
          "SGP",
          "SLB",
          "SLE",
          "SLV",
          "SOM",
          "SSA",
          "SSF",
          "SST",
          "STP",
          "SUR",
          "SVK",
          "SVN",
          "SWE",
          "SWZ",
          "SYC",
          "SYR",
          "TCA",
          "TCD",
          "TGO",
          "THA",
          "TJK",
          "TKM",
          "TLS",
          "TON",
          "TTO",
          "TUN",
          "TUR",
          "TZA",
          "UGA",
          "UKR",
          "UMC",
          "URY",
          "USA",
          "UZB",
          "VCT",
          "VEN",
          "VNM",
          "VUT",
          "WLD",
          "WSM",
          "YEM",
          "ZAF",
          "ZMB",
          "ZWE"
         ],
         "name": "",
         "type": "choropleth",
         "z": {
          "bdata": "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",
          "dtype": "f8"
         }
        }
       ],
       "layout": {
        "coloraxis": {
         "colorbar": {
          "title": {
           "text": "CO2 Per Capita (metric tons)"
          }
         },
         "colorscale": [
          [
           0,
           "#0d0887"
          ],
          [
           0.1111111111111111,
           "#46039f"
          ],
          [
           0.2222222222222222,
           "#7201a8"
          ],
          [
           0.3333333333333333,
           "#9c179e"
          ],
          [
           0.4444444444444444,
           "#bd3786"
          ],
          [
           0.5555555555555556,
           "#d8576b"
          ],
          [
           0.6666666666666666,
           "#ed7953"
          ],
          [
           0.7777777777777778,
           "#fb9f3a"
          ],
          [
           0.8888888888888888,
           "#fdca26"
          ],
          [
           1,
           "#f0f921"
          ]
         ]
        },
        "geo": {
         "center": {},
         "coastlinecolor": "Black",
         "domain": {
          "x": [
           0,
           1
          ],
          "y": [
           0,
           1
          ]
         },
         "showcoastlines": true
        },
        "legend": {
         "tracegroupgap": 0
        },
        "margin": {
         "t": 60
        },
        "template": {
         "data": {
          "bar": [
           {
            "error_x": {
             "color": "#2a3f5f"
            },
            "error_y": {
             "color": "#2a3f5f"
            },
            "marker": {
             "line": {
              "color": "#E5ECF6",
              "width": 0.5
             },
             "pattern": {
              "fillmode": "overlay",
              "size": 10,
              "solidity": 0.2
             }
            },
            "type": "bar"
           }
          ],
          "barpolar": [
           {
            "marker": {
             "line": {
              "color": "#E5ECF6",
              "width": 0.5
             },
             "pattern": {
              "fillmode": "overlay",
              "size": 10,
              "solidity": 0.2
             }
            },
            "type": "barpolar"
           }
          ],
          "carpet": [
           {
            "aaxis": {
             "endlinecolor": "#2a3f5f",
             "gridcolor": "white",
             "linecolor": "white",
             "minorgridcolor": "white",
             "startlinecolor": "#2a3f5f"
            },
            "baxis": {
             "endlinecolor": "#2a3f5f",
             "gridcolor": "white",
             "linecolor": "white",
             "minorgridcolor": "white",
             "startlinecolor": "#2a3f5f"
            },
            "type": "carpet"
           }
          ],
          "choropleth": [
           {
            "colorbar": {
             "outlinewidth": 0,
             "ticks": ""
            },
            "type": "choropleth"
           }
          ],
          "contour": [
           {
            "colorbar": {
             "outlinewidth": 0,
             "ticks": ""
            },
            "colorscale": [
             [
              0,
              "#0d0887"
             ],
             [
              0.1111111111111111,
              "#46039f"
             ],
             [
              0.2222222222222222,
              "#7201a8"
             ],
             [
              0.3333333333333333,
              "#9c179e"
             ],
             [
              0.4444444444444444,
              "#bd3786"
             ],
             [
              0.5555555555555556,
              "#d8576b"
             ],
             [
              0.6666666666666666,
              "#ed7953"
             ],
             [
              0.7777777777777778,
              "#fb9f3a"
             ],
             [
              0.8888888888888888,
              "#fdca26"
             ],
             [
              1,
              "#f0f921"
             ]
            ],
            "type": "contour"
           }
          ],
          "contourcarpet": [
           {
            "colorbar": {
             "outlinewidth": 0,
             "ticks": ""
            },
            "type": "contourcarpet"
           }
          ],
          "heatmap": [
           {
            "colorbar": {
             "outlinewidth": 0,
             "ticks": ""
            },
            "colorscale": [
             [
              0,
              "#0d0887"
             ],
             [
              0.1111111111111111,
              "#46039f"
             ],
             [
              0.2222222222222222,
              "#7201a8"
             ],
             [
              0.3333333333333333,
              "#9c179e"
             ],
             [
              0.4444444444444444,
              "#bd3786"
             ],
             [
              0.5555555555555556,
              "#d8576b"
             ],
             [
              0.6666666666666666,
              "#ed7953"
             ],
             [
              0.7777777777777778,
              "#fb9f3a"
             ],
             [
              0.8888888888888888,
              "#fdca26"
             ],
             [
              1,
              "#f0f921"
             ]
            ],
            "type": "heatmap"
           }
          ],
          "histogram": [
           {
            "marker": {
             "pattern": {
              "fillmode": "overlay",
              "size": 10,
              "solidity": 0.2
             }
            },
            "type": "histogram"
           }
          ],
          "histogram2d": [
           {
            "colorbar": {
             "outlinewidth": 0,
             "ticks": ""
            },
            "colorscale": [
             [
              0,
              "#0d0887"
             ],
             [
              0.1111111111111111,
              "#46039f"
             ],
             [
              0.2222222222222222,
              "#7201a8"
             ],
             [
              0.3333333333333333,
              "#9c179e"
             ],
             [
              0.4444444444444444,
              "#bd3786"
             ],
             [
              0.5555555555555556,
              "#d8576b"
             ],
             [
              0.6666666666666666,
              "#ed7953"
             ],
             [
              0.7777777777777778,
              "#fb9f3a"
             ],
             [
              0.8888888888888888,
              "#fdca26"
             ],
             [
              1,
              "#f0f921"
             ]
            ],
            "type": "histogram2d"
           }
          ],
          "histogram2dcontour": [
           {
            "colorbar": {
             "outlinewidth": 0,
             "ticks": ""
            },
            "colorscale": [
             [
              0,
              "#0d0887"
             ],
             [
              0.1111111111111111,
              "#46039f"
             ],
             [
              0.2222222222222222,
              "#7201a8"
             ],
             [
              0.3333333333333333,
              "#9c179e"
             ],
             [
              0.4444444444444444,
              "#bd3786"
             ],
             [
              0.5555555555555556,
              "#d8576b"
             ],
             [
              0.6666666666666666,
              "#ed7953"
             ],
             [
              0.7777777777777778,
              "#fb9f3a"
             ],
             [
              0.8888888888888888,
              "#fdca26"
             ],
             [
              1,
              "#f0f921"
             ]
            ],
            "type": "histogram2dcontour"
           }
          ],
          "mesh3d": [
           {
            "colorbar": {
             "outlinewidth": 0,
             "ticks": ""
            },
            "type": "mesh3d"
           }
          ],
          "parcoords": [
           {
            "line": {
             "colorbar": {
              "outlinewidth": 0,
              "ticks": ""
             }
            },
            "type": "parcoords"
           }
          ],
          "pie": [
           {
            "automargin": true,
            "type": "pie"
           }
          ],
          "scatter": [
           {
            "fillpattern": {
             "fillmode": "overlay",
             "size": 10,
             "solidity": 0.2
            },
            "type": "scatter"
           }
          ],
          "scatter3d": [
           {
            "line": {
             "colorbar": {
              "outlinewidth": 0,
              "ticks": ""
             }
            },
            "marker": {
             "colorbar": {
              "outlinewidth": 0,
              "ticks": ""
             }
            },
            "type": "scatter3d"
           }
          ],
          "scattercarpet": [
           {
            "marker": {
             "colorbar": {
              "outlinewidth": 0,
              "ticks": ""
             }
            },
            "type": "scattercarpet"
           }
          ],
          "scattergeo": [
           {
            "marker": {
             "colorbar": {
              "outlinewidth": 0,
              "ticks": ""
             }
            },
            "type": "scattergeo"
           }
          ],
          "scattergl": [
           {
            "marker": {
             "colorbar": {
              "outlinewidth": 0,
              "ticks": ""
             }
            },
            "type": "scattergl"
           }
          ],
          "scattermap": [
           {
            "marker": {
             "colorbar": {
              "outlinewidth": 0,
              "ticks": ""
             }
            },
            "type": "scattermap"
           }
          ],
          "scattermapbox": [
           {
            "marker": {
             "colorbar": {
              "outlinewidth": 0,
              "ticks": ""
             }
            },
            "type": "scattermapbox"
           }
          ],
          "scatterpolar": [
           {
            "marker": {
             "colorbar": {
              "outlinewidth": 0,
              "ticks": ""
             }
            },
            "type": "scatterpolar"
           }
          ],
          "scatterpolargl": [
           {
            "marker": {
             "colorbar": {
              "outlinewidth": 0,
              "ticks": ""
             }
            },
            "type": "scatterpolargl"
           }
          ],
          "scatterternary": [
           {
            "marker": {
             "colorbar": {
              "outlinewidth": 0,
              "ticks": ""
             }
            },
            "type": "scatterternary"
           }
          ],
          "surface": [
           {
            "colorbar": {
             "outlinewidth": 0,
             "ticks": ""
            },
            "colorscale": [
             [
              0,
              "#0d0887"
             ],
             [
              0.1111111111111111,
              "#46039f"
             ],
             [
              0.2222222222222222,
              "#7201a8"
             ],
             [
              0.3333333333333333,
              "#9c179e"
             ],
             [
              0.4444444444444444,
              "#bd3786"
             ],
             [
              0.5555555555555556,
              "#d8576b"
             ],
             [
              0.6666666666666666,
              "#ed7953"
             ],
             [
              0.7777777777777778,
              "#fb9f3a"
             ],
             [
              0.8888888888888888,
              "#fdca26"
             ],
             [
              1,
              "#f0f921"
             ]
            ],
            "type": "surface"
           }
          ],
          "table": [
           {
            "cells": {
             "fill": {
              "color": "#EBF0F8"
             },
             "line": {
              "color": "white"
             }
            },
            "header": {
             "fill": {
              "color": "#C8D4E3"
             },
             "line": {
              "color": "white"
             }
            },
            "type": "table"
           }
          ]
         },
         "layout": {
          "annotationdefaults": {
           "arrowcolor": "#2a3f5f",
           "arrowhead": 0,
           "arrowwidth": 1
          },
          "autotypenumbers": "strict",
          "coloraxis": {
           "colorbar": {
            "outlinewidth": 0,
            "ticks": ""
           }
          },
          "colorscale": {
           "diverging": [
            [
             0,
             "#8e0152"
            ],
            [
             0.1,
             "#c51b7d"
            ],
            [
             0.2,
             "#de77ae"
            ],
            [
             0.3,
             "#f1b6da"
            ],
            [
             0.4,
             "#fde0ef"
            ],
            [
             0.5,
             "#f7f7f7"
            ],
            [
             0.6,
             "#e6f5d0"
            ],
            [
             0.7,
             "#b8e186"
            ],
            [
             0.8,
             "#7fbc41"
            ],
            [
             0.9,
             "#4d9221"
            ],
            [
             1,
             "#276419"
            ]
           ],
           "sequential": [
            [
             0,
             "#0d0887"
            ],
            [
             0.1111111111111111,
             "#46039f"
            ],
            [
             0.2222222222222222,
             "#7201a8"
            ],
            [
             0.3333333333333333,
             "#9c179e"
            ],
            [
             0.4444444444444444,
             "#bd3786"
            ],
            [
             0.5555555555555556,
             "#d8576b"
            ],
            [
             0.6666666666666666,
             "#ed7953"
            ],
            [
             0.7777777777777778,
             "#fb9f3a"
            ],
            [
             0.8888888888888888,
             "#fdca26"
            ],
            [
             1,
             "#f0f921"
            ]
           ],
           "sequentialminus": [
            [
             0,
             "#0d0887"
            ],
            [
             0.1111111111111111,
             "#46039f"
            ],
            [
             0.2222222222222222,
             "#7201a8"
            ],
            [
             0.3333333333333333,
             "#9c179e"
            ],
            [
             0.4444444444444444,
             "#bd3786"
            ],
            [
             0.5555555555555556,
             "#d8576b"
            ],
            [
             0.6666666666666666,
             "#ed7953"
            ],
            [
             0.7777777777777778,
             "#fb9f3a"
            ],
            [
             0.8888888888888888,
             "#fdca26"
            ],
            [
             1,
             "#f0f921"
            ]
           ]
          },
          "colorway": [
           "#636efa",
           "#EF553B",
           "#00cc96",
           "#ab63fa",
           "#FFA15A",
           "#19d3f3",
           "#FF6692",
           "#B6E880",
           "#FF97FF",
           "#FECB52"
          ],
          "font": {
           "color": "#2a3f5f"
          },
          "geo": {
           "bgcolor": "white",
           "lakecolor": "white",
           "landcolor": "#E5ECF6",
           "showlakes": true,
           "showland": true,
           "subunitcolor": "white"
          },
          "hoverlabel": {
           "align": "left"
          },
          "hovermode": "closest",
          "mapbox": {
           "style": "light"
          },
          "paper_bgcolor": "white",
          "plot_bgcolor": "#E5ECF6",
          "polar": {
           "angularaxis": {
            "gridcolor": "white",
            "linecolor": "white",
            "ticks": ""
           },
           "bgcolor": "#E5ECF6",
           "radialaxis": {
            "gridcolor": "white",
            "linecolor": "white",
            "ticks": ""
           }
          },
          "scene": {
           "xaxis": {
            "backgroundcolor": "#E5ECF6",
            "gridcolor": "white",
            "gridwidth": 2,
            "linecolor": "white",
            "showbackground": true,
            "ticks": "",
            "zerolinecolor": "white"
           },
           "yaxis": {
            "backgroundcolor": "#E5ECF6",
            "gridcolor": "white",
            "gridwidth": 2,
            "linecolor": "white",
            "showbackground": true,
            "ticks": "",
            "zerolinecolor": "white"
           },
           "zaxis": {
            "backgroundcolor": "#E5ECF6",
            "gridcolor": "white",
            "gridwidth": 2,
            "linecolor": "white",
            "showbackground": true,
            "ticks": "",
            "zerolinecolor": "white"
           }
          },
          "shapedefaults": {
           "line": {
            "color": "#2a3f5f"
           }
          },
          "ternary": {
           "aaxis": {
            "gridcolor": "white",
            "linecolor": "white",
            "ticks": ""
           },
           "baxis": {
            "gridcolor": "white",
            "linecolor": "white",
            "ticks": ""
           },
           "bgcolor": "#E5ECF6",
           "caxis": {
            "gridcolor": "white",
            "linecolor": "white",
            "ticks": ""
           }
          },
          "title": {
           "x": 0.05
          },
          "xaxis": {
           "automargin": true,
           "gridcolor": "white",
           "linecolor": "white",
           "ticks": "",
           "title": {
            "standoff": 15
           },
           "zerolinecolor": "white",
           "zerolinewidth": 2
          },
          "yaxis": {
           "automargin": true,
           "gridcolor": "white",
           "linecolor": "white",
           "ticks": "",
           "title": {
            "standoff": 15
           },
           "zerolinecolor": "white",
           "zerolinewidth": 2
          }
         }
        },
        "title": {
         "text": "CO2 Emissions per Capita in 2005"
        }
       }
      }
     },
     "metadata": {},
     "output_type": "display_data"
    }
   ],
   "source": [
    "def show_map(df : pd.DataFrame \n",
    "             , year : int = 2010) :\n",
    "    \"\"\"\n",
    "    Show a map of CO2 emissions per capita for a given year\n",
    "    \"\"\"\n",
    "    # Filter the DataFrame for the selected year\n",
    "    year_data = df[df['Year'] == year]\n",
    "    display(year_data)\n",
    "    # Create a map\n",
    "    fig = px.choropleth(year_data,\n",
    "                        locations='Country Code',\n",
    "                        color='CO2 Per Capita (metric tons)',\n",
    "                        hover_name='Country Name'\n",
    "                        )\n",
    "\n",
    "    fig.update_layout(title_text=f\"CO2 Emissions per Capita in {year}\",\n",
    "                      geo=dict(showcoastlines=True, coastlinecolor=\"Black\"))\n",
    "\n",
    "    return fig\n",
    "\n",
    "\n",
    "show_map(df, 2005)"
   ]
  }
 ],
 "metadata": {
  "kernelspec": {
   "display_name": "Artefact",
   "language": "python",
   "name": "python3"
  },
  "language_info": {
   "codemirror_mode": {
    "name": "ipython",
    "version": 3
   },
   "file_extension": ".py",
   "mimetype": "text/x-python",
   "name": "python",
   "nbconvert_exporter": "python",
   "pygments_lexer": "ipython3",
   "version": "3.11.8"
  }
 },
 "nbformat": 4,
 "nbformat_minor": 5
}
