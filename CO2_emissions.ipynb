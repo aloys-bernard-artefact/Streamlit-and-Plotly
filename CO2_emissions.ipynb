{
 "cells": [
  {
   "cell_type": "markdown",
   "id": "b3b82288",
   "metadata": {},
   "source": [
    "### Imports "
   ]
  },
  {
   "cell_type": "code",
   "execution_count": 82,
   "id": "4f32da21",
   "metadata": {},
   "outputs": [],
   "source": [
    "import pandas as pd\n",
    "import seaborn as sns\n",
    "import plotly.express as px "
   ]
  },
  {
   "cell_type": "markdown",
   "id": "3c73b173",
   "metadata": {},
   "source": [
    "### Load data"
   ]
  },
  {
   "cell_type": "code",
   "execution_count": 83,
   "id": "1e891874",
   "metadata": {},
   "outputs": [
    {
     "name": "stdout",
     "output_type": "stream",
     "text": [
      "mkdir: data: File exists\n",
      "  % Total    % Received % Xferd  Average Speed   Time    Time     Time  Current\n",
      "                                 Dload  Upload   Total   Spent    Left  Speed\n",
      "100  411k  100  411k    0     0  1424k      0 --:--:-- --:--:-- --:--:-- 1430k\n",
      "CO2_per_capita.csv\n"
     ]
    }
   ],
   "source": [
    "! mkdir data\n",
    "! curl https://storage.googleapis.com/schoolofdata-datasets/Data-Analysis.Data-Visualization/CO2_per_capita.csv > data/CO2_per_capita.csv\n",
    "! ls  data"
   ]
  },
  {
   "cell_type": "code",
   "execution_count": 84,
   "id": "920c8256",
   "metadata": {},
   "outputs": [
    {
     "data": {
      "text/html": [
       "<div>\n",
       "<style scoped>\n",
       "    .dataframe tbody tr th:only-of-type {\n",
       "        vertical-align: middle;\n",
       "    }\n",
       "\n",
       "    .dataframe tbody tr th {\n",
       "        vertical-align: top;\n",
       "    }\n",
       "\n",
       "    .dataframe thead th {\n",
       "        text-align: right;\n",
       "    }\n",
       "</style>\n",
       "<table border=\"1\" class=\"dataframe\">\n",
       "  <thead>\n",
       "    <tr style=\"text-align: right;\">\n",
       "      <th></th>\n",
       "      <th>Country Name</th>\n",
       "      <th>Country Code</th>\n",
       "      <th>Year</th>\n",
       "      <th>CO2 Per Capita (metric tons)</th>\n",
       "    </tr>\n",
       "  </thead>\n",
       "  <tbody>\n",
       "    <tr>\n",
       "      <th>26</th>\n",
       "      <td>Aruba</td>\n",
       "      <td>ABW</td>\n",
       "      <td>1986</td>\n",
       "      <td>2.868319</td>\n",
       "    </tr>\n",
       "    <tr>\n",
       "      <th>27</th>\n",
       "      <td>Aruba</td>\n",
       "      <td>ABW</td>\n",
       "      <td>1987</td>\n",
       "      <td>7.234964</td>\n",
       "    </tr>\n",
       "    <tr>\n",
       "      <th>28</th>\n",
       "      <td>Aruba</td>\n",
       "      <td>ABW</td>\n",
       "      <td>1988</td>\n",
       "      <td>10.026508</td>\n",
       "    </tr>\n",
       "    <tr>\n",
       "      <th>29</th>\n",
       "      <td>Aruba</td>\n",
       "      <td>ABW</td>\n",
       "      <td>1989</td>\n",
       "      <td>10.634733</td>\n",
       "    </tr>\n",
       "    <tr>\n",
       "      <th>30</th>\n",
       "      <td>Aruba</td>\n",
       "      <td>ABW</td>\n",
       "      <td>1990</td>\n",
       "      <td>29.620165</td>\n",
       "    </tr>\n",
       "  </tbody>\n",
       "</table>\n",
       "</div>"
      ],
      "text/plain": [
       "   Country Name Country Code  Year  CO2 Per Capita (metric tons)\n",
       "26        Aruba          ABW  1986                      2.868319\n",
       "27        Aruba          ABW  1987                      7.234964\n",
       "28        Aruba          ABW  1988                     10.026508\n",
       "29        Aruba          ABW  1989                     10.634733\n",
       "30        Aruba          ABW  1990                     29.620165"
      ]
     },
     "execution_count": 84,
     "metadata": {},
     "output_type": "execute_result"
    }
   ],
   "source": [
    "df = pd.read_csv(\"data/CO2_per_capita.csv\",sep=\";\").dropna(subset=\"CO2 Per Capita (metric tons)\")\n",
    "df.head()\n"
   ]
  },
  {
   "cell_type": "code",
   "execution_count": 85,
   "id": "883687d5",
   "metadata": {},
   "outputs": [
    {
     "name": "stdout",
     "output_type": "stream",
     "text": [
      "<class 'pandas.core.frame.DataFrame'>\n",
      "Index: 10599 entries, 26 to 12895\n",
      "Data columns (total 4 columns):\n",
      " #   Column                        Non-Null Count  Dtype  \n",
      "---  ------                        --------------  -----  \n",
      " 0   Country Name                  10599 non-null  object \n",
      " 1   Country Code                  10599 non-null  object \n",
      " 2   Year                          10599 non-null  int64  \n",
      " 3   CO2 Per Capita (metric tons)  10599 non-null  float64\n",
      "dtypes: float64(1), int64(1), object(2)\n",
      "memory usage: 414.0+ KB\n"
     ]
    },
    {
     "data": {
      "text/html": [
       "<div>\n",
       "<style scoped>\n",
       "    .dataframe tbody tr th:only-of-type {\n",
       "        vertical-align: middle;\n",
       "    }\n",
       "\n",
       "    .dataframe tbody tr th {\n",
       "        vertical-align: top;\n",
       "    }\n",
       "\n",
       "    .dataframe thead th {\n",
       "        text-align: right;\n",
       "    }\n",
       "</style>\n",
       "<table border=\"1\" class=\"dataframe\">\n",
       "  <thead>\n",
       "    <tr style=\"text-align: right;\">\n",
       "      <th></th>\n",
       "      <th>Year</th>\n",
       "      <th>CO2 Per Capita (metric tons)</th>\n",
       "    </tr>\n",
       "  </thead>\n",
       "  <tbody>\n",
       "    <tr>\n",
       "      <th>count</th>\n",
       "      <td>10599.000000</td>\n",
       "      <td>10599.000000</td>\n",
       "    </tr>\n",
       "    <tr>\n",
       "      <th>mean</th>\n",
       "      <td>1986.793848</td>\n",
       "      <td>4.314893</td>\n",
       "    </tr>\n",
       "    <tr>\n",
       "      <th>std</th>\n",
       "      <td>15.062262</td>\n",
       "      <td>7.186523</td>\n",
       "    </tr>\n",
       "    <tr>\n",
       "      <th>min</th>\n",
       "      <td>1960.000000</td>\n",
       "      <td>0.000580</td>\n",
       "    </tr>\n",
       "    <tr>\n",
       "      <th>25%</th>\n",
       "      <td>1974.000000</td>\n",
       "      <td>0.413003</td>\n",
       "    </tr>\n",
       "    <tr>\n",
       "      <th>50%</th>\n",
       "      <td>1988.000000</td>\n",
       "      <td>1.590776</td>\n",
       "    </tr>\n",
       "    <tr>\n",
       "      <th>75%</th>\n",
       "      <td>2000.000000</td>\n",
       "      <td>6.007173</td>\n",
       "    </tr>\n",
       "    <tr>\n",
       "      <th>max</th>\n",
       "      <td>2011.000000</td>\n",
       "      <td>99.840439</td>\n",
       "    </tr>\n",
       "  </tbody>\n",
       "</table>\n",
       "</div>"
      ],
      "text/plain": [
       "               Year  CO2 Per Capita (metric tons)\n",
       "count  10599.000000                  10599.000000\n",
       "mean    1986.793848                      4.314893\n",
       "std       15.062262                      7.186523\n",
       "min     1960.000000                      0.000580\n",
       "25%     1974.000000                      0.413003\n",
       "50%     1988.000000                      1.590776\n",
       "75%     2000.000000                      6.007173\n",
       "max     2011.000000                     99.840439"
      ]
     },
     "execution_count": 85,
     "metadata": {},
     "output_type": "execute_result"
    }
   ],
   "source": [
    "df.info()\n",
    "df.describe()"
   ]
  },
  {
   "cell_type": "code",
   "execution_count": 86,
   "id": "7fe53952",
   "metadata": {},
   "outputs": [
    {
     "name": "stdout",
     "output_type": "stream",
     "text": [
      "(0, 2)\n"
     ]
    },
    {
     "data": {
      "text/plain": [
       "<Axes: >"
      ]
     },
     "execution_count": 86,
     "metadata": {},
     "output_type": "execute_result"
    },
    {
     "data": {
      "image/png": "[encoded data removed]",
      "text/plain": [
       "<Figure size 640x480 with 1 Axes>"
      ]
     },
     "metadata": {},
     "output_type": "display_data"
    }
   ],
   "source": [
    "# Bonus :  COmbien de nan par pays ?\n",
    "nan_df = df.loc[:,[\"Country Name\"]].copy()\n",
    "nan_df[\"CO2\"] = df.loc[:,[\"CO2 Per Capita (metric tons)\"]].isna()\n",
    "nan_df = nan_df.groupby(\"Country Name\").sum().sort_values(by=\"CO2\",ascending=False)\n",
    "nan_df = nan_df[nan_df[\"CO2\"] > 0 ]\n",
    "nan_df.reset_index(inplace=True)\n",
    "print(nan_df.shape)\n",
    "sns.barplot(data=nan_df, x= \"Country Name\", y=\"CO2\")"
   ]
  },
  {
   "cell_type": "code",
   "execution_count": 87,
   "id": "9f6b7668",
   "metadata": {},
   "outputs": [
    {
     "data": {
      "text/plain": [
       "<Axes: xlabel='CO2 Per Capita (metric tons)', ylabel='Count'>"
      ]
     },
     "execution_count": 87,
     "metadata": {},
     "output_type": "execute_result"
    },
    {
     "data": {
      "image/png": "[encoded data removed]",
      "text/plain": [
       "<Figure size 640x480 with 1 Axes>"
      ]
     },
     "metadata": {},
     "output_type": "display_data"
    }
   ],
   "source": [
    "sns.histplot(df,x=\"CO2 Per Capita (metric tons)\")"
   ]
  },
  {
   "cell_type": "code",
   "execution_count": 88,
   "id": "40d5cef3",
   "metadata": {},
   "outputs": [
    {
     "data": {
      "text/html": [
       "<div>\n",
       "<style scoped>\n",
       "    .dataframe tbody tr th:only-of-type {\n",
       "        vertical-align: middle;\n",
       "    }\n",
       "\n",
       "    .dataframe tbody tr th {\n",
       "        vertical-align: top;\n",
       "    }\n",
       "\n",
       "    .dataframe thead th {\n",
       "        text-align: right;\n",
       "    }\n",
       "</style>\n",
       "<table border=\"1\" class=\"dataframe\">\n",
       "  <thead>\n",
       "    <tr style=\"text-align: right;\">\n",
       "      <th></th>\n",
       "      <th>Country Name</th>\n",
       "      <th>Country Code</th>\n",
       "      <th>Year</th>\n",
       "      <th>CO2 Per Capita (metric tons)</th>\n",
       "    </tr>\n",
       "  </thead>\n",
       "  <tbody>\n",
       "    <tr>\n",
       "      <th>12891</th>\n",
       "      <td>Zimbabwe</td>\n",
       "      <td>ZWE</td>\n",
       "      <td>2007</td>\n",
       "      <td>0.731867</td>\n",
       "    </tr>\n",
       "    <tr>\n",
       "      <th>12892</th>\n",
       "      <td>Zimbabwe</td>\n",
       "      <td>ZWE</td>\n",
       "      <td>2008</td>\n",
       "      <td>0.569255</td>\n",
       "    </tr>\n",
       "    <tr>\n",
       "      <th>12893</th>\n",
       "      <td>Zimbabwe</td>\n",
       "      <td>ZWE</td>\n",
       "      <td>2009</td>\n",
       "      <td>0.600521</td>\n",
       "    </tr>\n",
       "    <tr>\n",
       "      <th>12894</th>\n",
       "      <td>Zimbabwe</td>\n",
       "      <td>ZWE</td>\n",
       "      <td>2010</td>\n",
       "      <td>0.646073</td>\n",
       "    </tr>\n",
       "    <tr>\n",
       "      <th>12895</th>\n",
       "      <td>Zimbabwe</td>\n",
       "      <td>ZWE</td>\n",
       "      <td>2011</td>\n",
       "      <td>0.691698</td>\n",
       "    </tr>\n",
       "  </tbody>\n",
       "</table>\n",
       "</div>"
      ],
      "text/plain": [
       "      Country Name Country Code  Year  CO2 Per Capita (metric tons)\n",
       "12891     Zimbabwe          ZWE  2007                      0.731867\n",
       "12892     Zimbabwe          ZWE  2008                      0.569255\n",
       "12893     Zimbabwe          ZWE  2009                      0.600521\n",
       "12894     Zimbabwe          ZWE  2010                      0.646073\n",
       "12895     Zimbabwe          ZWE  2011                      0.691698"
      ]
     },
     "execution_count": 88,
     "metadata": {},
     "output_type": "execute_result"
    }
   ],
   "source": [
    "df.tail()"
   ]
  },
  {
   "cell_type": "code",
   "execution_count": 89,
   "id": "a189a1a3",
   "metadata": {},
   "outputs": [
    {
     "data": {
      "text/html": [
       "<div>\n",
       "<style scoped>\n",
       "    .dataframe tbody tr th:only-of-type {\n",
       "        vertical-align: middle;\n",
       "    }\n",
       "\n",
       "    .dataframe tbody tr th {\n",
       "        vertical-align: top;\n",
       "    }\n",
       "\n",
       "    .dataframe thead th {\n",
       "        text-align: right;\n",
       "    }\n",
       "</style>\n",
       "<table border=\"1\" class=\"dataframe\">\n",
       "  <thead>\n",
       "    <tr style=\"text-align: right;\">\n",
       "      <th></th>\n",
       "      <th>Country Name</th>\n",
       "      <th>Country Code</th>\n",
       "      <th>Year</th>\n",
       "      <th>CO2 Per Capita (metric tons)</th>\n",
       "    </tr>\n",
       "  </thead>\n",
       "  <tbody>\n",
       "    <tr>\n",
       "      <th>49</th>\n",
       "      <td>Aruba</td>\n",
       "      <td>ABW</td>\n",
       "      <td>2009</td>\n",
       "      <td>24.876706</td>\n",
       "    </tr>\n",
       "    <tr>\n",
       "      <th>50</th>\n",
       "      <td>Aruba</td>\n",
       "      <td>ABW</td>\n",
       "      <td>2010</td>\n",
       "      <td>24.182702</td>\n",
       "    </tr>\n",
       "    <tr>\n",
       "      <th>101</th>\n",
       "      <td>Afghanistan</td>\n",
       "      <td>AFG</td>\n",
       "      <td>2009</td>\n",
       "      <td>0.249074</td>\n",
       "    </tr>\n",
       "    <tr>\n",
       "      <th>102</th>\n",
       "      <td>Afghanistan</td>\n",
       "      <td>AFG</td>\n",
       "      <td>2010</td>\n",
       "      <td>0.302936</td>\n",
       "    </tr>\n",
       "    <tr>\n",
       "      <th>153</th>\n",
       "      <td>Angola</td>\n",
       "      <td>AGO</td>\n",
       "      <td>2009</td>\n",
       "      <td>1.430873</td>\n",
       "    </tr>\n",
       "    <tr>\n",
       "      <th>...</th>\n",
       "      <td>...</td>\n",
       "      <td>...</td>\n",
       "      <td>...</td>\n",
       "      <td>...</td>\n",
       "    </tr>\n",
       "    <tr>\n",
       "      <th>12790</th>\n",
       "      <td>South Africa</td>\n",
       "      <td>ZAF</td>\n",
       "      <td>2010</td>\n",
       "      <td>8.957154</td>\n",
       "    </tr>\n",
       "    <tr>\n",
       "      <th>12841</th>\n",
       "      <td>Zambia</td>\n",
       "      <td>ZMB</td>\n",
       "      <td>2009</td>\n",
       "      <td>0.184058</td>\n",
       "    </tr>\n",
       "    <tr>\n",
       "      <th>12842</th>\n",
       "      <td>Zambia</td>\n",
       "      <td>ZMB</td>\n",
       "      <td>2010</td>\n",
       "      <td>0.192079</td>\n",
       "    </tr>\n",
       "    <tr>\n",
       "      <th>12893</th>\n",
       "      <td>Zimbabwe</td>\n",
       "      <td>ZWE</td>\n",
       "      <td>2009</td>\n",
       "      <td>0.600521</td>\n",
       "    </tr>\n",
       "    <tr>\n",
       "      <th>12894</th>\n",
       "      <td>Zimbabwe</td>\n",
       "      <td>ZWE</td>\n",
       "      <td>2010</td>\n",
       "      <td>0.646073</td>\n",
       "    </tr>\n",
       "  </tbody>\n",
       "</table>\n",
       "<p>464 rows × 4 columns</p>\n",
       "</div>"
      ],
      "text/plain": [
       "       Country Name Country Code  Year  CO2 Per Capita (metric tons)\n",
       "49            Aruba          ABW  2009                     24.876706\n",
       "50            Aruba          ABW  2010                     24.182702\n",
       "101     Afghanistan          AFG  2009                      0.249074\n",
       "102     Afghanistan          AFG  2010                      0.302936\n",
       "153          Angola          AGO  2009                      1.430873\n",
       "...             ...          ...   ...                           ...\n",
       "12790  South Africa          ZAF  2010                      8.957154\n",
       "12841        Zambia          ZMB  2009                      0.184058\n",
       "12842        Zambia          ZMB  2010                      0.192079\n",
       "12893      Zimbabwe          ZWE  2009                      0.600521\n",
       "12894      Zimbabwe          ZWE  2010                      0.646073\n",
       "\n",
       "[464 rows x 4 columns]"
      ]
     },
     "execution_count": 89,
     "metadata": {},
     "output_type": "execute_result"
    }
   ],
   "source": [
    "boolean_df = (df[\"Year\"] > 2008) & (df[\"Year\"] < 2011)\n",
    "filtered_df = df[boolean_df]\n",
    "filtered_df"
   ]
  },
  {
   "cell_type": "code",
   "execution_count": 100,
   "id": "19db9d74",
   "metadata": {},
   "outputs": [
    {
     "data": {
      "image/png": "[encoded data removed]",
      "text/plain": [
       "<Figure size 640x480 with 1 Axes>"
      ]
     },
     "metadata": {},
     "output_type": "display_data"
    }
   ],
   "source": [
    "def top_n_emitters( df : pd.DataFrame\n",
    "                    ,start_year : int = 2008\n",
    "                    ,end_year   : int = 2011\n",
    "                    ,nb_display : int = 10)  :\n",
    "    # Je filtre par années\n",
    "    boolean_df = (df[\"Year\"] >= start_year) & (df[\"Year\"] <= end_year )\n",
    "    filtered_df = df[boolean_df]\n",
    "    # Je groupe \n",
    "    co2_df = filtered_df[[\"Country Name\",\"CO2 Per Capita (metric tons)\"]]\\\n",
    "                    .groupby(by=\"Country Name\")\\\n",
    "                    .mean()\n",
    "    # Je filtre le top n\n",
    "    co2_df\\\n",
    "        .sort_values(by='CO2 Per Capita (metric tons)'\n",
    "                       ,inplace=True\n",
    "                       ,ascending=False)\n",
    "    top_n_co2 = co2_df.head(nb_display)\n",
    "    # 3 je créé un graph\n",
    "    sns.barplot(top_n_co2, y=top_n_co2.index, x = \"CO2 Per Capita (metric tons)\")\n",
    "\n",
    "    \n",
    "top_n_emitters(df,2000,2020,10)"
   ]
  },
  {
   "cell_type": "code",
   "execution_count": 91,
   "id": "d181d587",
   "metadata": {},
   "outputs": [
    {
     "data": {
      "text/plain": [
       "<function __main__.top_n_emitters(df: pandas.core.frame.DataFrame, start_year: int = 2008, end_year: int = 2011, nb_display: int = 10)>"
      ]
     },
     "execution_count": 91,
     "metadata": {},
     "output_type": "execute_result"
    }
   ],
   "source": [
    "top_n_emitters"
   ]
  },
  {
   "cell_type": "code",
   "execution_count": null,
   "id": "9c9331a1",
   "metadata": {},
   "outputs": [],
   "source": []
  }
 ],
 "metadata": {
  "kernelspec": {
   "display_name": "Artefact",
   "language": "python",
   "name": "python3"
  },
  "language_info": {
   "codemirror_mode": {
    "name": "ipython",
    "version": 3
   },
   "file_extension": ".py",
   "mimetype": "text/x-python",
   "name": "python",
   "nbconvert_exporter": "python",
   "pygments_lexer": "ipython3",
   "version": "3.11.8"
  }
 },
 "nbformat": 4,
 "nbformat_minor": 5
}
